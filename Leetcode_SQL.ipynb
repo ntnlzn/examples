{
 "cells": [
  {
   "cell_type": "code",
   "execution_count": null,
   "id": "19352ed8",
   "metadata": {},
   "outputs": [],
   "source": [
    "#175. Combine Two Tables\n",
    "SELECT firstName , lastName , city , state\n",
    "FROM person P\n",
    "LEFT JOIN address A \n",
    "ON P.personId = A.personId"
   ]
  },
  {
   "cell_type": "code",
   "execution_count": null,
   "id": "906b07f8",
   "metadata": {},
   "outputs": [],
   "source": [
    "#176. Second Highest Salary\n",
    "WITH\n",
    "tbl AS (\n",
    "    SELECT DISTINCT salary SecondHighestSalary FROM (\n",
    "        SELECT * , DENSE_RANK() OVER (ORDER BY salary DESC) DR FROM Employee) RNK\n",
    "    WHERE DR = 2)\n",
    "\n",
    "SELECT * FROM TBL\n",
    "UNION\n",
    "SELECT NULL\n",
    "WHERE NOT EXISTS (SELECT * FROM tbl)"
   ]
  },
  {
   "cell_type": "code",
   "execution_count": null,
   "id": "48e433a5",
   "metadata": {},
   "outputs": [],
   "source": [
    "#177. Nth Highest Salary\n",
    "CREATE FUNCTION getNthHighestSalary(@N INT) RETURNS INT AS\n",
    "BEGIN\n",
    "    RETURN (\n",
    "        SELECT DISTINCT salary\n",
    "        FROM(\n",
    "            SELECT salary, DENSE_RANK() OVER (ORDER BY salary DESC) DR\n",
    "            FROM Employee) A\n",
    "        WHERE DR = @N\n",
    "    );\n",
    "END"
   ]
  },
  {
   "cell_type": "code",
   "execution_count": null,
   "id": "31386cdb",
   "metadata": {},
   "outputs": [],
   "source": [
    "#178. Rank Scores\n",
    "SELECT score, DENSE_RANK() OVER (ORDER BY score DESC) rank\n",
    "FROM Scores"
   ]
  },
  {
   "cell_type": "code",
   "execution_count": null,
   "id": "4581df15",
   "metadata": {},
   "outputs": [],
   "source": [
    "#180. Consecutive Numbers\n",
    "SELECT DISTINCT num ConsecutiveNums \n",
    "FROM(\n",
    "    SELECT num, LEAD(NUM, 1) OVER (ORDER BY id) L1,\n",
    "    LEAD(NUM, 2) OVER (ORDER BY id) L2\n",
    "    FROM Logs) A\n",
    "WHERE num = L1 AND L1 = L2"
   ]
  },
  {
   "cell_type": "code",
   "execution_count": null,
   "id": "6d8f6dfc",
   "metadata": {},
   "outputs": [],
   "source": [
    "#181. Employees Earning More Than Their Managers\n",
    "SELECT E1.name Employee FROM employee E1\n",
    "LEFT JOIN employee E2 ON E1.managerId = E2.id\n",
    "WHERE E1.salary > E2.salary"
   ]
  },
  {
   "cell_type": "code",
   "execution_count": null,
   "id": "c4816f2b",
   "metadata": {},
   "outputs": [],
   "source": [
    "#182. Duplicate Emails\n",
    "SELECT email Email\n",
    "FROM Person\n",
    "GROUP BY email\n",
    "HAVING COUNT(email) > 1"
   ]
  },
  {
   "cell_type": "code",
   "execution_count": null,
   "id": "543e831c",
   "metadata": {},
   "outputs": [],
   "source": [
    "#183. Customers Who Never Order\n",
    "SELECT name AS Customers FROM customers\n",
    "WHERE id NOT IN (SELECT customerId FROM Orders)"
   ]
  },
  {
   "cell_type": "code",
   "execution_count": null,
   "id": "5054f9f1",
   "metadata": {},
   "outputs": [],
   "source": [
    "#184. Department Highest Salary\n",
    "SELECT D.name Department, E.name Employee, E.salary Salary\n",
    "FROM (\n",
    "  SELECT name, salary, departmentId, MAX(salary) OVER (PARTITION BY departmentId) max_sal\n",
    "  FROM Employee) E\n",
    "LEFT JOIN Department D ON E.departmentId=D.id\n",
    "WHERE E.max_sal = E.salary"
   ]
  },
  {
   "cell_type": "code",
   "execution_count": null,
   "id": "e62cf618",
   "metadata": {},
   "outputs": [],
   "source": [
    "#185. Department Top Three Salaries\n",
    "SELECT D.name Department, E.Employee, E.Salary\n",
    "FROM (\n",
    "    SELECT departmentId Department, name Employee, salary Salary, \n",
    "    DENSE_RANK() OVER (PARTITION BY departmentId ORDER BY salary DESC) DR\n",
    "    FROM Employee) E\n",
    "LEFT JOIN Department D ON E.Department = D.id\n",
    "WHERE DR <= 3"
   ]
  },
  {
   "cell_type": "code",
   "execution_count": null,
   "id": "248e8be4",
   "metadata": {},
   "outputs": [],
   "source": [
    "#196. Delete Duplicate Emails\n",
    "DELETE FROM Person\n",
    "WHERE id NOT IN (SELECT MIN(ID) FROM person GROUP BY email)"
   ]
  },
  {
   "cell_type": "code",
   "execution_count": null,
   "id": "8ef91321",
   "metadata": {},
   "outputs": [],
   "source": [
    "#197. Rising Temperature\n",
    "SELECT id AS Id\n",
    "FROM (\n",
    "    SELECT * , \n",
    "    LAG(temperature) OVER (ORDER BY recordDate) LAGTEMP ,\n",
    "    LAG(recordDate) OVER (ORDER BY recordDate) LAGdate    \n",
    "    FROM Weather) A\n",
    "WHERE temperature > LAGTEMP AND DATEADD(DD,-1,recordDate) = LAGdate"
   ]
  },
  {
   "cell_type": "code",
   "execution_count": null,
   "id": "ce3baa87",
   "metadata": {},
   "outputs": [],
   "source": [
    "#262. Trips and Users\n",
    "WITH\n",
    "banned AS (\n",
    "    SELECT users_id \n",
    "    FROM Users\n",
    "    WHERE banned = 'Yes'),\n",
    "\n",
    "total AS (\n",
    "    SELECT request_at, COUNT(id) cnt_tot\n",
    "    FROM Trips\n",
    "    WHERE client_id NOT IN (SELECT * FROM banned) \n",
    "    AND driver_id NOT IN (SELECT * FROM banned)\n",
    "    GROUP BY request_at),\n",
    "\n",
    "cancelled AS (\n",
    "    SELECT request_at, COUNT(id) cnt_cnl\n",
    "    FROM Trips\n",
    "    WHERE status != 'completed' \n",
    "    AND client_id NOT IN (SELECT * FROM banned) \n",
    "    AND driver_id NOT IN (SELECT * FROM banned)\n",
    "    GROUP BY request_at)\n",
    "\n",
    "SELECT T.request_at Day, \n",
    "ROUND(CAST(COALESCE(C.cnt_cnl, 0) AS FLOAT)/T.cnt_tot, 2) [Cancellation Rate]\n",
    "FROM total T\n",
    "FULL JOIN cancelled C ON T.request_at=C.request_at\n",
    "WHERE T.cnt_tot != 0 \n",
    "AND (T.request_at <= CAST('2013-10-03' AS DATE) AND T.request_at >= CAST('2013-10-01' AS DATE))"
   ]
  },
  {
   "cell_type": "code",
   "execution_count": null,
   "id": "6d7b8c1c",
   "metadata": {},
   "outputs": [],
   "source": [
    "#511. Game Play Analysis I\n",
    "SELECT player_id, MIN(event_date) first_login FROM Activity\n",
    "GROUP BY player_id"
   ]
  },
  {
   "cell_type": "code",
   "execution_count": null,
   "id": "0e413131",
   "metadata": {},
   "outputs": [],
   "source": [
    "#584. Find Customer Referee\n",
    "SELECT name FROM customer\n",
    "WHERE referee_id!=2 OR referee_id IS NULL"
   ]
  },
  {
   "cell_type": "code",
   "execution_count": null,
   "id": "a84cd060",
   "metadata": {},
   "outputs": [],
   "source": [
    "#586. Customer Placing the Largest Number of Orders\n",
    "WITH\n",
    "CNT_O AS (\n",
    "    SELECT customer_number , COUNT(order_number) CNT_O\n",
    "    FROM Orders A\n",
    "    GROUP BY customer_number)\n",
    "\n",
    "SELECT customer_number FROM (\n",
    "    SELECT customer_number , CNT_O , DENSE_RANK() OVER (ORDER BY CNT_O DESC) DR\n",
    "    FROM CNT_O) A\n",
    "WHERE DR = 1"
   ]
  },
  {
   "cell_type": "code",
   "execution_count": null,
   "id": "e98aed55",
   "metadata": {},
   "outputs": [],
   "source": [
    "#595. Big Countries\n",
    "SELECT name , population , area \n",
    "FROM world\n",
    "WHERE area > 3000000 OR population >= 25000000"
   ]
  },
  {
   "cell_type": "code",
   "execution_count": null,
   "id": "3d68ff5c",
   "metadata": {},
   "outputs": [],
   "source": [
    "#596. Classes More Than 5 Students\n",
    "SELECT class\n",
    "FROM Courses\n",
    "GROUP BY class\n",
    "HAVING COUNT(student) >= 5"
   ]
  },
  {
   "cell_type": "code",
   "execution_count": null,
   "id": "172a5032",
   "metadata": {},
   "outputs": [],
   "source": [
    "#601. Human Traffic of Stadium\n",
    "SELECT id, visit_date, people\n",
    "FROM (\n",
    "    SELECT id, visit_date, people, \n",
    "    CASE WHEN \n",
    "    (LAG(id) OVER (ORDER BY id) IS NULL AND LEAD(id) OVER (ORDER BY id) = id + 1 AND LEAD(id,2) OVER (ORDER BY id) = id + 2)\n",
    "    OR\n",
    "    (LEAD(id) OVER (ORDER BY id) IS NULL AND LAG(id) OVER (ORDER BY id) = id - 1 AND LAG(id,2) OVER (ORDER BY id) = id - 2)\n",
    "    OR\n",
    "    (LAG(id, 1) OVER (ORDER BY id) = id - 1 AND LEAD(id) OVER (ORDER BY id) = id + 1)\n",
    "    OR\n",
    "    (LEAD(id, 1) OVER (ORDER BY id) = id + 1 AND LEAD(id, 2) OVER (ORDER BY id) = id + 2)\n",
    "    OR\n",
    "    (LAG(id, 1) OVER (ORDER BY id) = id - 1 AND LAG(id, 2) OVER (ORDER BY id) = id - 2)\n",
    "    THEN 1\n",
    "    ELSE 0\n",
    "    END ind\n",
    "    FROM (\n",
    "        SELECT *\n",
    "        FROM Stadium\n",
    "        WHERE people >= 100\n",
    "    ) A\n",
    ") B\n",
    "WHERE ind = 1"
   ]
  },
  {
   "cell_type": "code",
   "execution_count": null,
   "id": "df670b44",
   "metadata": {},
   "outputs": [],
   "source": [
    "#607. Sales Person\n",
    "WITH\n",
    "A AS (\n",
    "    SELECT SP.name SPN , C.name CN\n",
    "    FROM SalesPerson SP\n",
    "    LEFT JOIN Orders O ON SP.sales_id=O.sales_id\n",
    "    LEFT JOIN company C ON O.com_id=C.com_id)\n",
    "\n",
    "SELECT name FROM SalesPerson\n",
    "WHERE name NOT IN (SELECT SPN FROM A WHERE CN='RED')"
   ]
  },
  {
   "cell_type": "code",
   "execution_count": null,
   "id": "dea75b9d",
   "metadata": {},
   "outputs": [],
   "source": [
    "#608. Tree Node\n",
    "SELECT id ,\n",
    "CASE\n",
    "WHEN p_id IS NULL\n",
    "THEN 'Root'\n",
    "WHEN id IN (SELECT p_id FROM tree) AND p_id IS NOT NULL\n",
    "THEN 'Inner'\n",
    "ELSE 'Leaf'\n",
    "END type\n",
    "FROM Tree"
   ]
  },
  {
   "cell_type": "code",
   "execution_count": null,
   "id": "0c1a7cf8",
   "metadata": {},
   "outputs": [],
   "source": [
    "#620. Not Boring Movies\n",
    "SELECT * FROM Cinema\n",
    "WHERE id % 2 != 0 AND description != 'boring'\n",
    "ORDER BY rating DESC"
   ]
  },
  {
   "cell_type": "code",
   "execution_count": null,
   "id": "0306bac6",
   "metadata": {},
   "outputs": [],
   "source": [
    "#626. Exchange Seats\n",
    "SELECT \n",
    "COALESCE(\n",
    "    CASE \n",
    "    WHEN id % 2 != 0\n",
    "    THEN LEAD(id) OVER (ORDER BY id)\n",
    "    ELSE LAG(id) OVER (ORDER BY id)\n",
    "    END, id) id,\n",
    "student\n",
    "FROM Seat\n",
    "ORDER BY id"
   ]
  },
  {
   "cell_type": "code",
   "execution_count": null,
   "id": "0beafee3",
   "metadata": {},
   "outputs": [],
   "source": [
    "#627. Swap Salary\n",
    "UPDATE Salary\n",
    "SET SEX =\n",
    "CASE\n",
    "WHEN SEX = 'm'\n",
    "THEN 'f'\n",
    "ELSE 'm'\n",
    "END "
   ]
  },
  {
   "cell_type": "code",
   "execution_count": null,
   "id": "f72a4b0c",
   "metadata": {},
   "outputs": [],
   "source": [
    "#1050. Actors and Directors Who Cooperated At Least Three Times\n",
    "SELECT actor_id, director_id\n",
    "FROM ActorDirector\n",
    "GROUP BY actor_id, director_id\n",
    "HAVING COUNT(*) >= 3"
   ]
  },
  {
   "cell_type": "code",
   "execution_count": null,
   "id": "ac25499c",
   "metadata": {},
   "outputs": [],
   "source": [
    "#1084. Sales Analysis III\n",
    "SELECT DISTINCT S.product_id, P.product_name \n",
    "FROM Sales S\n",
    "LEFT JOIN Product P ON S.product_id=P.product_id\n",
    "WHERE \n",
    "sale_date >= CAST('2019-01-01' AS DATE) \n",
    "AND sale_date <= CAST('2019-03-31' AS DATE)\n",
    "AND S.product_id NOT IN (\n",
    "    SELECT product_id FROM Sales\n",
    "    WHERE sale_date < CAST('2019-01-01' AS DATE) OR sale_date > CAST('2019-03-31' AS DATE))"
   ]
  },
  {
   "cell_type": "code",
   "execution_count": null,
   "id": "1fdcd6c1",
   "metadata": {},
   "outputs": [],
   "source": [
    "#1141. User Activity for the Past 30 Days I\n",
    "SELECT activity_date day, COUNT(DISTINCT user_id) active_users \n",
    "FROM (\n",
    "    SELECT user_id , activity_date FROM Activity\n",
    "    WHERE \n",
    "    DATEDIFF(DD,activity_date,CAST('2019-07-27' AS DATE)) < 30 \n",
    "    AND DATEDIFF(DD,activity_date,CAST('2019-07-27' AS DATE)) > 0\n",
    "    GROUP BY user_id , activity_date) A\n",
    "GROUP BY activity_date"
   ]
  },
  {
   "cell_type": "code",
   "execution_count": null,
   "id": "fa244300",
   "metadata": {},
   "outputs": [],
   "source": [
    "#1148. Article Views I\n",
    "SELECT DISTINCT author_id id FROM Views\n",
    "WHERE author_id = viewer_id"
   ]
  },
  {
   "cell_type": "code",
   "execution_count": null,
   "id": "2a43aba1",
   "metadata": {},
   "outputs": [],
   "source": [
    "#1158. Market Analysis I\n",
    "WITH\n",
    "Buyer AS (\n",
    "    SELECT buyer_id, COUNT(*) orders_in_2019\n",
    "    FROM Orders\n",
    "    WHERE DATEPART(YEAR, order_date) = 2019\n",
    "    GROUP BY buyer_id)\n",
    "\n",
    "SELECT user_id buyer_id, join_date, COALESCE(orders_in_2019, 0) orders_in_2019\n",
    "FROM Users U\n",
    "LEFT JOIN Buyer B ON U.user_id = B.buyer_id"
   ]
  },
  {
   "cell_type": "code",
   "execution_count": null,
   "id": "00ea550b",
   "metadata": {},
   "outputs": [],
   "source": [
    "#1179. Reformat Department Table\n",
    "SELECT id,\n",
    "SUM(CASE month WHEN 'Jan' THEN revenue ELSE NULL END) Jan_Revenue,\n",
    "SUM(CASE month WHEN 'Feb' THEN revenue ELSE NULL END) Feb_Revenue,\n",
    "SUM(CASE month WHEN 'Mar' THEN revenue ELSE NULL END) Mar_Revenue,\n",
    "SUM(CASE month WHEN 'Apr' THEN revenue ELSE NULL END) Apr_Revenue,\n",
    "SUM(CASE month WHEN 'May' THEN revenue ELSE NULL END) May_Revenue,\n",
    "SUM(CASE month WHEN 'Jun' THEN revenue ELSE NULL END) Jun_Revenue,\n",
    "SUM(CASE month WHEN 'Jul' THEN revenue ELSE NULL END) Jul_Revenue,\n",
    "SUM(CASE month WHEN 'Aug' THEN revenue ELSE NULL END) Aug_Revenue, \n",
    "SUM(CASE month WHEN 'Sep' THEN revenue ELSE NULL END) Sep_Revenue, \n",
    "SUM(CASE month WHEN 'Oct' THEN revenue ELSE NULL END) Oct_Revenue, \n",
    "SUM(CASE month WHEN 'Nov' THEN revenue ELSE NULL END) Nov_Revenue, \n",
    "SUM(CASE month WHEN 'Dec' THEN revenue ELSE NULL END) Dec_Revenue\n",
    "FROM Department\n",
    "GROUP BY id"
   ]
  },
  {
   "cell_type": "code",
   "execution_count": null,
   "id": "e9b783fb",
   "metadata": {},
   "outputs": [],
   "source": [
    "#1393. Capital Gain/Loss\n",
    "SELECT stock_name,\n",
    "SUM(IIF(operation = 'Sell', price, price*(-1))) capital_gain_loss\n",
    "FROM Stocks\n",
    "GROUP BY stock_name\n",
    "ORDER BY capital_gain_loss DESC"
   ]
  },
  {
   "cell_type": "code",
   "execution_count": null,
   "id": "ba8db8a7",
   "metadata": {},
   "outputs": [],
   "source": [
    "#1407. Top Travellers\n",
    "SELECT U.name, COALESCE(SUM(R.distance), 0) travelled_distance\n",
    "FROM Rides R\n",
    "RIGHT JOIN Users U ON R.user_id=U.id\n",
    "GROUP BY R.user_id, U.name\n",
    "ORDER BY SUM(R.distance) DESC, U.name"
   ]
  },
  {
   "cell_type": "code",
   "execution_count": null,
   "id": "715c0feb",
   "metadata": {},
   "outputs": [],
   "source": [
    "#1484. Group Sold Products By The Date\n",
    "SELECT sell_date , COUNT(product) num_sold , STRING_AGG(product,',') WITHIN GROUP (ORDER BY product) products\n",
    "FROM (SELECT DISTINCT * FROM Activities) A\n",
    "GROUP BY sell_date\n",
    "ORDER BY sell_date"
   ]
  },
  {
   "cell_type": "code",
   "execution_count": null,
   "id": "65a7d1ed",
   "metadata": {},
   "outputs": [],
   "source": [
    "#1527. Patients With a Condition\n",
    "SELECT * FROM Patients\n",
    "WHERE conditions LIKE'% DIAB1%' OR conditions LIKE'DIAB1%'"
   ]
  },
  {
   "cell_type": "code",
   "execution_count": null,
   "id": "7e34920d",
   "metadata": {},
   "outputs": [],
   "source": [
    "#1581. Customer Who Visited but Did Not Make Any Transactions\n",
    "SELECT customer_id , COUNT(customer_id) count_no_trans\n",
    "FROM Visits V\n",
    "LEFT JOIN Transactions T \n",
    "ON V.visit_id = T.visit_id\n",
    "WHERE transaction_id IS NULL\n",
    "GROUP BY customer_id"
   ]
  },
  {
   "cell_type": "code",
   "execution_count": null,
   "id": "83db60ce",
   "metadata": {},
   "outputs": [],
   "source": [
    "#1587. Bank Account Summary II\n",
    "SELECT U.name, SUM(T.amount) balance\n",
    "FROM Transactions T\n",
    "LEFT JOIN Users U ON T.account = U.account\n",
    "GROUP BY T.account, U.name\n",
    "HAVING SUM(T.amount) > 10000"
   ]
  },
  {
   "cell_type": "code",
   "execution_count": null,
   "id": "8bae4224",
   "metadata": {},
   "outputs": [],
   "source": [
    "#1667. Fix Names in a Table\n",
    "SELECT user_id , SUBSTRING(UPPER(name),1,1) + SUBSTRING(LOWER(name),2,254) name\n",
    "FROM users\n",
    "ORDER BY user_id"
   ]
  },
  {
   "cell_type": "code",
   "execution_count": null,
   "id": "785d7a70",
   "metadata": {},
   "outputs": [],
   "source": [
    "#1693. Daily Leads and Partners\n",
    "SELECT date_id , make_name , COUNT(DISTINCT lead_id) unique_leads , COUNT(DISTINCT partner_id) unique_partners \n",
    "FROM DailySales\n",
    "GROUP BY date_id , make_name"
   ]
  },
  {
   "cell_type": "code",
   "execution_count": null,
   "id": "cdcfe13f",
   "metadata": {},
   "outputs": [],
   "source": [
    "#1729. Find Followers Count\n",
    "SELECT user_id , COUNT(follower_id) followers_count\n",
    "FROM Followers\n",
    "GROUP BY user_id\n",
    "ORDER BY user_id"
   ]
  },
  {
   "cell_type": "code",
   "execution_count": null,
   "id": "aa6d6386",
   "metadata": {},
   "outputs": [],
   "source": [
    "#1741. Find Total Time Spent by Each Employee\n",
    "SELECT event_day day, emp_id, SUM(out_time - in_time) total_time\n",
    "FROM Employees\n",
    "GROUP BY event_day, emp_id"
   ]
  },
  {
   "cell_type": "code",
   "execution_count": null,
   "id": "520f81f8",
   "metadata": {},
   "outputs": [],
   "source": [
    "#1757. Recyclable and Low Fat Products\n",
    "SELECT product_id FROM products\n",
    "WHERE low_fats  = 'Y' AND recyclable = 'Y'"
   ]
  },
  {
   "cell_type": "code",
   "execution_count": null,
   "id": "ef412b78",
   "metadata": {},
   "outputs": [],
   "source": [
    "#1795. Rearrange Products Table\n",
    "SELECT product_id , 'store1' AS store , store1 AS price\n",
    "FROM products\n",
    "WHERE store1 IS NOT NULL\n",
    "\n",
    "UNION\n",
    "\n",
    "SELECT product_id , 'store2' AS store , store2\n",
    "FROM products\n",
    "WHERE store2 IS NOT NULL\n",
    "\n",
    "UNION\n",
    "\n",
    "SELECT product_id , 'store3' AS store , store3\n",
    "FROM products\n",
    "WHERE store3 IS NOT NULL"
   ]
  },
  {
   "cell_type": "code",
   "execution_count": null,
   "id": "5d9e5a34",
   "metadata": {},
   "outputs": [],
   "source": [
    "#1873. Calculate Special Bonus\n",
    "SELECT employee_id , IIF(employee_id % 2 != 0 AND name NOT LIKE 'M%', salary , 0) bonus \n",
    "FROM Employees\n",
    "ORDER BY employee_id"
   ]
  },
  {
   "cell_type": "code",
   "execution_count": null,
   "id": "de7beb7b",
   "metadata": {},
   "outputs": [],
   "source": [
    "#1890. The Latest Login in 2020\n",
    "SELECT DISTINCT user_id, MAX(time_stamp) OVER (PARTITION BY user_id) last_stamp\n",
    "FROM Logins\n",
    "WHERE DATEPART(YYYY,time_stamp) = 2020"
   ]
  },
  {
   "cell_type": "code",
   "execution_count": null,
   "id": "8a729715",
   "metadata": {},
   "outputs": [],
   "source": [
    "#1965. Employees With Missing Information\n",
    "SELECT COALESCE(E.employee_id,S.employee_id) employee_id\n",
    "FROM Employees E\n",
    "FULL JOIN Salaries S ON E.employee_id = S.employee_id\n",
    "WHERE name IS NULL OR salary IS NULL\n",
    "ORDER BY employee_id"
   ]
  }
 ],
 "metadata": {
  "kernelspec": {
   "display_name": "Python 3 (ipykernel)",
   "language": "python",
   "name": "python3"
  },
  "language_info": {
   "codemirror_mode": {
    "name": "ipython",
    "version": 3
   },
   "file_extension": ".py",
   "mimetype": "text/x-python",
   "name": "python",
   "nbconvert_exporter": "python",
   "pygments_lexer": "ipython3",
   "version": "3.10.5"
  }
 },
 "nbformat": 4,
 "nbformat_minor": 5
}
