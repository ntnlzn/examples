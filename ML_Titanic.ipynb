{
 "cells": [
  {
   "cell_type": "code",
   "execution_count": 884,
   "id": "59eb577c",
   "metadata": {},
   "outputs": [],
   "source": [
    "import pandas as pd\n",
    "import seaborn as sns\n",
    "import re\n",
    "import math\n",
    "import numpy as np\n",
    "import matplotlib.pyplot as plt\n",
    "\n",
    "from sklearn.ensemble import RandomForestClassifier\n",
    "from sklearn.ensemble import GradientBoostingClassifier\n",
    "from sklearn.model_selection import GridSearchCV\n",
    "from sklearn.tree import DecisionTreeClassifier\n",
    "from sklearn.neighbors import KNeighborsClassifier\n",
    "from sklearn.svm import SVC\n",
    "\n",
    "%matplotlib inline\n",
    "sns.set()"
   ]
  },
  {
   "cell_type": "code",
   "execution_count": 885,
   "id": "b119771a",
   "metadata": {},
   "outputs": [],
   "source": [
    "# Импортируем тестовую выборку и помечаем её\n",
    "testdf = pd.read_csv('test.csv')\n",
    "testdf['testdf'] = 1"
   ]
  },
  {
   "cell_type": "code",
   "execution_count": 886,
   "id": "880d2062",
   "metadata": {},
   "outputs": [],
   "source": [
    "# Импортируем обучающую выборку и помечаем её\n",
    "df = pd.read_csv('train.csv')\n",
    "df['testdf'] = 0"
   ]
  },
  {
   "cell_type": "code",
   "execution_count": 887,
   "id": "c1a32fbd",
   "metadata": {
    "scrolled": true
   },
   "outputs": [],
   "source": [
    "# Соединяем две выборки\n",
    "df = pd.concat([df, testdf]) "
   ]
  },
  {
   "cell_type": "code",
   "execution_count": 888,
   "id": "3b0f78c1",
   "metadata": {
    "scrolled": true
   },
   "outputs": [
    {
     "data": {
      "text/plain": [
       "PassengerId    0.000000\n",
       "Survived       0.319328\n",
       "Pclass         0.000000\n",
       "Name           0.000000\n",
       "Sex            0.000000\n",
       "Age            0.200917\n",
       "SibSp          0.000000\n",
       "Parch          0.000000\n",
       "Ticket         0.000000\n",
       "Fare           0.000764\n",
       "Cabin          0.774637\n",
       "Embarked       0.001528\n",
       "testdf         0.000000\n",
       "dtype: float64"
      ]
     },
     "execution_count": 888,
     "metadata": {},
     "output_type": "execute_result"
    }
   ],
   "source": [
    "# Проверяем таблицу на наличие пустых ячеек\n",
    "df.isnull().sum()/len(df)"
   ]
  },
  {
   "cell_type": "code",
   "execution_count": 889,
   "id": "03b452c0",
   "metadata": {
    "scrolled": true
   },
   "outputs": [
    {
     "data": {
      "text/plain": [
       "0.0    0.616162\n",
       "1.0    0.383838\n",
       "Name: Survived, dtype: float64"
      ]
     },
     "execution_count": 889,
     "metadata": {},
     "output_type": "execute_result"
    }
   ],
   "source": [
    "# Доля всех выживших\n",
    "df.query(\"testdf == 0\").Survived.value_counts('normalize')"
   ]
  },
  {
   "cell_type": "code",
   "execution_count": 890,
   "id": "f4792091",
   "metadata": {},
   "outputs": [
    {
     "data": {
      "text/plain": [
       "<AxesSubplot: xlabel='Pclass', ylabel='Count'>"
      ]
     },
     "execution_count": 890,
     "metadata": {},
     "output_type": "execute_result"
    },
    {
     "data": {
      "image/png": "[encoded data removed]",
      "text/plain": [
       "<Figure size 640x480 with 1 Axes>"
      ]
     },
     "metadata": {},
     "output_type": "display_data"
    }
   ],
   "source": [
    "sns.histplot(x='Pclass', hue='Survived', data=df.query(\"testdf == 0\"))\n",
    "# Наибольшая доля выживших для группы пассажиров 1-го класса,\n",
    "# наименьшая - 3-го"
   ]
  },
  {
   "cell_type": "code",
   "execution_count": 891,
   "id": "bc196040",
   "metadata": {},
   "outputs": [],
   "source": [
    "# Титул пассажира\n",
    "df['title'] = df.Name.apply(lambda x: re.findall(\"([A-Za-z]{1,10}\\.)\", x)[0].replace('.',''))"
   ]
  },
  {
   "cell_type": "code",
   "execution_count": 892,
   "id": "f6096af3",
   "metadata": {
    "scrolled": false
   },
   "outputs": [
    {
     "data": {
      "text/html": [
       "<div>\n",
       "<style scoped>\n",
       "    .dataframe tbody tr th:only-of-type {\n",
       "        vertical-align: middle;\n",
       "    }\n",
       "\n",
       "    .dataframe tbody tr th {\n",
       "        vertical-align: top;\n",
       "    }\n",
       "\n",
       "    .dataframe thead th {\n",
       "        text-align: right;\n",
       "    }\n",
       "</style>\n",
       "<table border=\"1\" class=\"dataframe\">\n",
       "  <thead>\n",
       "    <tr style=\"text-align: right;\">\n",
       "      <th></th>\n",
       "      <th>Survived</th>\n",
       "      <th>Name</th>\n",
       "    </tr>\n",
       "    <tr>\n",
       "      <th>title</th>\n",
       "      <th></th>\n",
       "      <th></th>\n",
       "    </tr>\n",
       "  </thead>\n",
       "  <tbody>\n",
       "    <tr>\n",
       "      <th>Mr</th>\n",
       "      <td>0.156673</td>\n",
       "      <td>517</td>\n",
       "    </tr>\n",
       "    <tr>\n",
       "      <th>Miss</th>\n",
       "      <td>0.697802</td>\n",
       "      <td>182</td>\n",
       "    </tr>\n",
       "    <tr>\n",
       "      <th>Mrs</th>\n",
       "      <td>0.792000</td>\n",
       "      <td>125</td>\n",
       "    </tr>\n",
       "    <tr>\n",
       "      <th>Master</th>\n",
       "      <td>0.575000</td>\n",
       "      <td>40</td>\n",
       "    </tr>\n",
       "    <tr>\n",
       "      <th>Dr</th>\n",
       "      <td>0.428571</td>\n",
       "      <td>7</td>\n",
       "    </tr>\n",
       "    <tr>\n",
       "      <th>Rev</th>\n",
       "      <td>0.000000</td>\n",
       "      <td>6</td>\n",
       "    </tr>\n",
       "    <tr>\n",
       "      <th>Major</th>\n",
       "      <td>0.500000</td>\n",
       "      <td>2</td>\n",
       "    </tr>\n",
       "    <tr>\n",
       "      <th>Col</th>\n",
       "      <td>0.500000</td>\n",
       "      <td>2</td>\n",
       "    </tr>\n",
       "    <tr>\n",
       "      <th>Mlle</th>\n",
       "      <td>1.000000</td>\n",
       "      <td>2</td>\n",
       "    </tr>\n",
       "    <tr>\n",
       "      <th>Mme</th>\n",
       "      <td>1.000000</td>\n",
       "      <td>1</td>\n",
       "    </tr>\n",
       "    <tr>\n",
       "      <th>Ms</th>\n",
       "      <td>1.000000</td>\n",
       "      <td>1</td>\n",
       "    </tr>\n",
       "    <tr>\n",
       "      <th>Capt</th>\n",
       "      <td>0.000000</td>\n",
       "      <td>1</td>\n",
       "    </tr>\n",
       "    <tr>\n",
       "      <th>Lady</th>\n",
       "      <td>1.000000</td>\n",
       "      <td>1</td>\n",
       "    </tr>\n",
       "    <tr>\n",
       "      <th>Jonkheer</th>\n",
       "      <td>0.000000</td>\n",
       "      <td>1</td>\n",
       "    </tr>\n",
       "    <tr>\n",
       "      <th>Don</th>\n",
       "      <td>0.000000</td>\n",
       "      <td>1</td>\n",
       "    </tr>\n",
       "    <tr>\n",
       "      <th>Countess</th>\n",
       "      <td>1.000000</td>\n",
       "      <td>1</td>\n",
       "    </tr>\n",
       "    <tr>\n",
       "      <th>Sir</th>\n",
       "      <td>1.000000</td>\n",
       "      <td>1</td>\n",
       "    </tr>\n",
       "  </tbody>\n",
       "</table>\n",
       "</div>"
      ],
      "text/plain": [
       "          Survived  Name\n",
       "title                   \n",
       "Mr        0.156673   517\n",
       "Miss      0.697802   182\n",
       "Mrs       0.792000   125\n",
       "Master    0.575000    40\n",
       "Dr        0.428571     7\n",
       "Rev       0.000000     6\n",
       "Major     0.500000     2\n",
       "Col       0.500000     2\n",
       "Mlle      1.000000     2\n",
       "Mme       1.000000     1\n",
       "Ms        1.000000     1\n",
       "Capt      0.000000     1\n",
       "Lady      1.000000     1\n",
       "Jonkheer  0.000000     1\n",
       "Don       0.000000     1\n",
       "Countess  1.000000     1\n",
       "Sir       1.000000     1"
      ]
     },
     "execution_count": 892,
     "metadata": {},
     "output_type": "execute_result"
    }
   ],
   "source": [
    "df.query(\"testdf == 0\")[['title', 'Survived', 'Name']]\\\n",
    ".groupby('title')\\\n",
    ".agg({'Survived': 'mean', 'Name': 'count'})\\\n",
    ".sort_values('Name', ascending=0)"
   ]
  },
  {
   "cell_type": "code",
   "execution_count": 893,
   "id": "6614d0a2",
   "metadata": {
    "scrolled": true
   },
   "outputs": [
    {
     "data": {
      "text/plain": [
       "Sex     Pclass\n",
       "female  1         0.968085\n",
       "        2         0.921053\n",
       "        3         0.500000\n",
       "male    1         0.368852\n",
       "        2         0.157407\n",
       "        3         0.135447\n",
       "Name: Survived, dtype: float64"
      ]
     },
     "execution_count": 893,
     "metadata": {},
     "output_type": "execute_result"
    }
   ],
   "source": [
    "# Доля выживших в группах разных полов и классов\n",
    "# Видно, что самая большая доля выживших находится в группах\n",
    "# женщин в 1 и 2 классе\n",
    "df.query(\"testdf == 0\").groupby(['Sex', 'Pclass']).Survived.mean()"
   ]
  },
  {
   "cell_type": "code",
   "execution_count": 894,
   "id": "7f738754",
   "metadata": {},
   "outputs": [
    {
     "data": {
      "text/plain": [
       "<AxesSubplot: xlabel='Survived', ylabel='count'>"
      ]
     },
     "execution_count": 894,
     "metadata": {},
     "output_type": "execute_result"
    },
    {
     "data": {
      "image/png": "[encoded data removed]",
      "text/plain": [
       "<Figure size 640x480 with 1 Axes>"
      ]
     },
     "metadata": {},
     "output_type": "display_data"
    }
   ],
   "source": [
    "# Видно, что большая часть женщин спаслись, мужчин - нет.\n",
    "sns.countplot(hue='Sex', x='Survived', data=df.query(\"testdf == 0\"))"
   ]
  },
  {
   "cell_type": "code",
   "execution_count": 895,
   "id": "5ce4b060",
   "metadata": {
    "scrolled": false
   },
   "outputs": [
    {
     "data": {
      "text/plain": [
       "<AxesSubplot: xlabel='Age', ylabel='Count'>"
      ]
     },
     "execution_count": 895,
     "metadata": {},
     "output_type": "execute_result"
    },
    {
     "data": {
      "image/png": "[encoded data removed]",
      "text/plain": [
       "<Figure size 640x480 with 1 Axes>"
      ]
     },
     "metadata": {},
     "output_type": "display_data"
    }
   ],
   "source": [
    "# В группе 0-10 лет доля выживших значительно больше, чем в других\n",
    "sns.histplot(x='Age', hue='Survived', data=df.query(\"testdf == 0\"), binwidth=10)"
   ]
  },
  {
   "cell_type": "code",
   "execution_count": 896,
   "id": "475e1a19",
   "metadata": {},
   "outputs": [],
   "source": [
    "# Отнесем каждого пассажира к одной из 8 возрастных групп\n",
    "df['age_group'] = df.Age.apply(lambda x: \n",
    "             '[0-10)' if x >= 0 and x < 10 else         \n",
    "             '[10-20)' if x >= 10 and x < 20 else\n",
    "             '[20-30)' if x >= 20 and x < 30 else           \n",
    "             '[30-40)' if x >= 30 and x < 40 else\n",
    "             '[40-50)' if x >= 40 and x < 50 else\n",
    "             '[50-60)' if x >= 50 and x < 60 else\n",
    "             '[60-70)' if x >= 60 and x < 70 else\n",
    "             '>=70' if x >= 70 else '')"
   ]
  },
  {
   "cell_type": "code",
   "execution_count": 897,
   "id": "db10dd4d",
   "metadata": {},
   "outputs": [
    {
     "data": {
      "text/html": [
       "<div>\n",
       "<style scoped>\n",
       "    .dataframe tbody tr th:only-of-type {\n",
       "        vertical-align: middle;\n",
       "    }\n",
       "\n",
       "    .dataframe tbody tr th {\n",
       "        vertical-align: top;\n",
       "    }\n",
       "\n",
       "    .dataframe thead th {\n",
       "        text-align: right;\n",
       "    }\n",
       "</style>\n",
       "<table border=\"1\" class=\"dataframe\">\n",
       "  <thead>\n",
       "    <tr style=\"text-align: right;\">\n",
       "      <th></th>\n",
       "      <th>Survived</th>\n",
       "      <th>Name</th>\n",
       "    </tr>\n",
       "    <tr>\n",
       "      <th>age_group</th>\n",
       "      <th></th>\n",
       "      <th></th>\n",
       "    </tr>\n",
       "  </thead>\n",
       "  <tbody>\n",
       "    <tr>\n",
       "      <th>[0-10)</th>\n",
       "      <td>0.612903</td>\n",
       "      <td>62</td>\n",
       "    </tr>\n",
       "    <tr>\n",
       "      <th>[30-40)</th>\n",
       "      <td>0.437126</td>\n",
       "      <td>167</td>\n",
       "    </tr>\n",
       "    <tr>\n",
       "      <th>[50-60)</th>\n",
       "      <td>0.416667</td>\n",
       "      <td>48</td>\n",
       "    </tr>\n",
       "    <tr>\n",
       "      <th>[10-20)</th>\n",
       "      <td>0.401961</td>\n",
       "      <td>102</td>\n",
       "    </tr>\n",
       "    <tr>\n",
       "      <th>[40-50)</th>\n",
       "      <td>0.382022</td>\n",
       "      <td>89</td>\n",
       "    </tr>\n",
       "    <tr>\n",
       "      <th>[20-30)</th>\n",
       "      <td>0.350000</td>\n",
       "      <td>220</td>\n",
       "    </tr>\n",
       "    <tr>\n",
       "      <th>[60-70)</th>\n",
       "      <td>0.315789</td>\n",
       "      <td>19</td>\n",
       "    </tr>\n",
       "    <tr>\n",
       "      <th></th>\n",
       "      <td>0.293785</td>\n",
       "      <td>177</td>\n",
       "    </tr>\n",
       "    <tr>\n",
       "      <th>&gt;=70</th>\n",
       "      <td>0.142857</td>\n",
       "      <td>7</td>\n",
       "    </tr>\n",
       "  </tbody>\n",
       "</table>\n",
       "</div>"
      ],
      "text/plain": [
       "           Survived  Name\n",
       "age_group                \n",
       "[0-10)     0.612903    62\n",
       "[30-40)    0.437126   167\n",
       "[50-60)    0.416667    48\n",
       "[10-20)    0.401961   102\n",
       "[40-50)    0.382022    89\n",
       "[20-30)    0.350000   220\n",
       "[60-70)    0.315789    19\n",
       "           0.293785   177\n",
       ">=70       0.142857     7"
      ]
     },
     "execution_count": 897,
     "metadata": {},
     "output_type": "execute_result"
    }
   ],
   "source": [
    "df.query(\"testdf == 0\")[['age_group', 'Survived', 'Name']]\\\n",
    ".groupby('age_group')\\\n",
    ".agg({'Survived': 'mean', 'Name': 'count'})\\\n",
    ".sort_values('Survived', ascending=0)"
   ]
  },
  {
   "cell_type": "code",
   "execution_count": 898,
   "id": "12388e06",
   "metadata": {},
   "outputs": [
    {
     "data": {
      "text/plain": [
       "<AxesSubplot: xlabel='SibSp', ylabel='Survived'>"
      ]
     },
     "execution_count": 898,
     "metadata": {},
     "output_type": "execute_result"
    },
    {
     "data": {
      "image/png": "[encoded data removed]",
      "text/plain": [
       "<Figure size 640x480 with 1 Axes>"
      ]
     },
     "metadata": {},
     "output_type": "display_data"
    }
   ],
   "source": [
    "# Выживаемость в зависимости от количества братьев/сестер или супругов, путешествующих вместе с пассажиром\n",
    "sns.lineplot(df.query(\"testdf == 0\").groupby(['SibSp']).Survived.mean().mul(100))"
   ]
  },
  {
   "cell_type": "code",
   "execution_count": 899,
   "id": "b21726b0",
   "metadata": {},
   "outputs": [
    {
     "data": {
      "text/html": [
       "<div>\n",
       "<style scoped>\n",
       "    .dataframe tbody tr th:only-of-type {\n",
       "        vertical-align: middle;\n",
       "    }\n",
       "\n",
       "    .dataframe tbody tr th {\n",
       "        vertical-align: top;\n",
       "    }\n",
       "\n",
       "    .dataframe thead th {\n",
       "        text-align: right;\n",
       "    }\n",
       "</style>\n",
       "<table border=\"1\" class=\"dataframe\">\n",
       "  <thead>\n",
       "    <tr style=\"text-align: right;\">\n",
       "      <th></th>\n",
       "      <th>Survived</th>\n",
       "      <th>Name</th>\n",
       "    </tr>\n",
       "    <tr>\n",
       "      <th>SibSp</th>\n",
       "      <th></th>\n",
       "      <th></th>\n",
       "    </tr>\n",
       "  </thead>\n",
       "  <tbody>\n",
       "    <tr>\n",
       "      <th>0</th>\n",
       "      <td>0.345395</td>\n",
       "      <td>608</td>\n",
       "    </tr>\n",
       "    <tr>\n",
       "      <th>1</th>\n",
       "      <td>0.535885</td>\n",
       "      <td>209</td>\n",
       "    </tr>\n",
       "    <tr>\n",
       "      <th>2</th>\n",
       "      <td>0.464286</td>\n",
       "      <td>28</td>\n",
       "    </tr>\n",
       "    <tr>\n",
       "      <th>3</th>\n",
       "      <td>0.250000</td>\n",
       "      <td>16</td>\n",
       "    </tr>\n",
       "    <tr>\n",
       "      <th>4</th>\n",
       "      <td>0.166667</td>\n",
       "      <td>18</td>\n",
       "    </tr>\n",
       "    <tr>\n",
       "      <th>5</th>\n",
       "      <td>0.000000</td>\n",
       "      <td>5</td>\n",
       "    </tr>\n",
       "    <tr>\n",
       "      <th>8</th>\n",
       "      <td>0.000000</td>\n",
       "      <td>7</td>\n",
       "    </tr>\n",
       "  </tbody>\n",
       "</table>\n",
       "</div>"
      ],
      "text/plain": [
       "       Survived  Name\n",
       "SibSp                \n",
       "0      0.345395   608\n",
       "1      0.535885   209\n",
       "2      0.464286    28\n",
       "3      0.250000    16\n",
       "4      0.166667    18\n",
       "5      0.000000     5\n",
       "8      0.000000     7"
      ]
     },
     "execution_count": 899,
     "metadata": {},
     "output_type": "execute_result"
    }
   ],
   "source": [
    "# Выживаемость в зависимости от количества братьев/сестер или супругов, путешествующих вместе с пассажиром\n",
    "df.query(\"testdf == 0\")[['SibSp', 'Survived', 'Name']]\\\n",
    ".groupby('SibSp')\\\n",
    ".agg({'Survived': 'mean', 'Name': 'count'})\\\n",
    ".sort_values('SibSp')"
   ]
  },
  {
   "cell_type": "code",
   "execution_count": 900,
   "id": "625130a5",
   "metadata": {},
   "outputs": [
    {
     "data": {
      "text/plain": [
       "<AxesSubplot: xlabel='Parch', ylabel='Survived'>"
      ]
     },
     "execution_count": 900,
     "metadata": {},
     "output_type": "execute_result"
    },
    {
     "data": {
      "image/png": "[encoded data removed]",
      "text/plain": [
       "<Figure size 640x480 with 1 Axes>"
      ]
     },
     "metadata": {},
     "output_type": "display_data"
    }
   ],
   "source": [
    "sns.lineplot(data=df.query(\"testdf == 0\").groupby(['Parch']).Survived.mean().mul(100).apply(lambda x: 20 if x == 4 else x))"
   ]
  },
  {
   "cell_type": "code",
   "execution_count": 901,
   "id": "09276ae7",
   "metadata": {},
   "outputs": [
    {
     "data": {
      "text/html": [
       "<div>\n",
       "<style scoped>\n",
       "    .dataframe tbody tr th:only-of-type {\n",
       "        vertical-align: middle;\n",
       "    }\n",
       "\n",
       "    .dataframe tbody tr th {\n",
       "        vertical-align: top;\n",
       "    }\n",
       "\n",
       "    .dataframe thead th {\n",
       "        text-align: right;\n",
       "    }\n",
       "</style>\n",
       "<table border=\"1\" class=\"dataframe\">\n",
       "  <thead>\n",
       "    <tr style=\"text-align: right;\">\n",
       "      <th></th>\n",
       "      <th>Survived</th>\n",
       "      <th>Name</th>\n",
       "    </tr>\n",
       "    <tr>\n",
       "      <th>Parch</th>\n",
       "      <th></th>\n",
       "      <th></th>\n",
       "    </tr>\n",
       "  </thead>\n",
       "  <tbody>\n",
       "    <tr>\n",
       "      <th>0</th>\n",
       "      <td>0.343658</td>\n",
       "      <td>678</td>\n",
       "    </tr>\n",
       "    <tr>\n",
       "      <th>1</th>\n",
       "      <td>0.550847</td>\n",
       "      <td>118</td>\n",
       "    </tr>\n",
       "    <tr>\n",
       "      <th>2</th>\n",
       "      <td>0.500000</td>\n",
       "      <td>80</td>\n",
       "    </tr>\n",
       "    <tr>\n",
       "      <th>3</th>\n",
       "      <td>0.600000</td>\n",
       "      <td>5</td>\n",
       "    </tr>\n",
       "    <tr>\n",
       "      <th>4</th>\n",
       "      <td>0.000000</td>\n",
       "      <td>4</td>\n",
       "    </tr>\n",
       "    <tr>\n",
       "      <th>5</th>\n",
       "      <td>0.200000</td>\n",
       "      <td>5</td>\n",
       "    </tr>\n",
       "    <tr>\n",
       "      <th>6</th>\n",
       "      <td>0.000000</td>\n",
       "      <td>1</td>\n",
       "    </tr>\n",
       "  </tbody>\n",
       "</table>\n",
       "</div>"
      ],
      "text/plain": [
       "       Survived  Name\n",
       "Parch                \n",
       "0      0.343658   678\n",
       "1      0.550847   118\n",
       "2      0.500000    80\n",
       "3      0.600000     5\n",
       "4      0.000000     4\n",
       "5      0.200000     5\n",
       "6      0.000000     1"
      ]
     },
     "execution_count": 901,
     "metadata": {},
     "output_type": "execute_result"
    }
   ],
   "source": [
    "df.query(\"testdf == 0\")[['Parch', 'Survived', 'Name']]\\\n",
    ".groupby('Parch')\\\n",
    ".agg({'Survived': 'mean', 'Name': 'count'})\\\n",
    ".sort_values('Parch')"
   ]
  },
  {
   "cell_type": "code",
   "execution_count": 902,
   "id": "cc401eb0",
   "metadata": {},
   "outputs": [],
   "source": [
    "# \"Достанем\" из 'Cabin' букву палубы и номер каюты\n",
    "def fff(x):\n",
    "    if len(x)>1 :\n",
    "        lst = re.findall(\"([A-Z]\\d{1,3})\", x)\n",
    "        letter = re.findall(\"([A-Z])\", lst[math.floor(len(lst)/2)])[0]\n",
    "        num = re.findall(\"(\\d{1,3})\", lst[math.floor(len(lst)/2)])[0]\n",
    "        return [letter, num]\n",
    "    else:\n",
    "        return ''\n",
    "\n",
    "df['cabin_letter'] = df.Cabin.fillna('')\\\n",
    "    .apply(lambda x: fff(x)[0] if len(x)>1 else None)\n",
    "\n",
    "df['cabin_num'] = df.Cabin.fillna('')\\\n",
    "    .apply(lambda x: float(fff(x)[1]) if len(x)>1 else None)"
   ]
  },
  {
   "cell_type": "code",
   "execution_count": 903,
   "id": "575b0eab",
   "metadata": {},
   "outputs": [
    {
     "data": {
      "text/plain": [
       "<AxesSubplot: xlabel='cabin_num', ylabel='Count'>"
      ]
     },
     "execution_count": 903,
     "metadata": {},
     "output_type": "execute_result"
    },
    {
     "data": {
      "image/png": "[encoded data removed]",
      "text/plain": [
       "<Figure size 640x480 with 1 Axes>"
      ]
     },
     "metadata": {},
     "output_type": "display_data"
    }
   ],
   "source": [
    "sns.histplot(x='cabin_num', data=df.query(\"testdf == 0\"), binwidth=10)\n",
    "sns.histplot(x='cabin_num', data=df.query(\"testdf == 0\").query(\"Survived == 1\"), color='red', binwidth=10)"
   ]
  },
  {
   "cell_type": "code",
   "execution_count": 904,
   "id": "447add87",
   "metadata": {},
   "outputs": [],
   "source": [
    "df['cabin_num_group'] = df.cabin_num.apply(lambda x: \n",
    "            '[0-30)' if x >= 0 and x < 30 else \n",
    "            '[30-60)' if x >= 30 and x < 60 else\n",
    "            '[60-90)' if x >= 60 and x < 90 else\n",
    "            '[90-120)' if x >= 90 and x < 120 else\n",
    "            '[120-150)' if x >= 120 and x < 150 else\n",
    "            '>=150' if x >= 150 else '')"
   ]
  },
  {
   "cell_type": "code",
   "execution_count": 905,
   "id": "55364732",
   "metadata": {},
   "outputs": [
    {
     "data": {
      "text/html": [
       "<div>\n",
       "<style scoped>\n",
       "    .dataframe tbody tr th:only-of-type {\n",
       "        vertical-align: middle;\n",
       "    }\n",
       "\n",
       "    .dataframe tbody tr th {\n",
       "        vertical-align: top;\n",
       "    }\n",
       "\n",
       "    .dataframe thead th {\n",
       "        text-align: right;\n",
       "    }\n",
       "</style>\n",
       "<table border=\"1\" class=\"dataframe\">\n",
       "  <thead>\n",
       "    <tr style=\"text-align: right;\">\n",
       "      <th></th>\n",
       "      <th>Survived</th>\n",
       "      <th>Name</th>\n",
       "    </tr>\n",
       "    <tr>\n",
       "      <th>cabin_num_group</th>\n",
       "      <th></th>\n",
       "      <th></th>\n",
       "    </tr>\n",
       "  </thead>\n",
       "  <tbody>\n",
       "    <tr>\n",
       "      <th></th>\n",
       "      <td>0.301013</td>\n",
       "      <td>691</td>\n",
       "    </tr>\n",
       "    <tr>\n",
       "      <th>[0-30)</th>\n",
       "      <td>0.716418</td>\n",
       "      <td>67</td>\n",
       "    </tr>\n",
       "    <tr>\n",
       "      <th>[30-60)</th>\n",
       "      <td>0.677966</td>\n",
       "      <td>59</td>\n",
       "    </tr>\n",
       "    <tr>\n",
       "      <th>[60-90)</th>\n",
       "      <td>0.540541</td>\n",
       "      <td>37</td>\n",
       "    </tr>\n",
       "    <tr>\n",
       "      <th>[90-120)</th>\n",
       "      <td>0.720000</td>\n",
       "      <td>25</td>\n",
       "    </tr>\n",
       "    <tr>\n",
       "      <th>[120-150)</th>\n",
       "      <td>0.666667</td>\n",
       "      <td>12</td>\n",
       "    </tr>\n",
       "  </tbody>\n",
       "</table>\n",
       "</div>"
      ],
      "text/plain": [
       "                 Survived  Name\n",
       "cabin_num_group                \n",
       "                 0.301013   691\n",
       "[0-30)           0.716418    67\n",
       "[30-60)          0.677966    59\n",
       "[60-90)          0.540541    37\n",
       "[90-120)         0.720000    25\n",
       "[120-150)        0.666667    12"
      ]
     },
     "execution_count": 905,
     "metadata": {},
     "output_type": "execute_result"
    }
   ],
   "source": [
    "# выживаемость в зависимости от каюты\n",
    "# При указанной каюте выживаемость выше в 2 раза\n",
    "df.query(\"testdf == 0\")[['cabin_num_group', 'Survived', 'Name']]\\\n",
    ".groupby('cabin_num_group')\\\n",
    ".agg({'Survived': 'mean', 'Name': 'count'})\\\n",
    ".sort_values('Name', ascending=0)"
   ]
  },
  {
   "cell_type": "code",
   "execution_count": 906,
   "id": "adad81ca",
   "metadata": {},
   "outputs": [
    {
     "data": {
      "text/html": [
       "<div>\n",
       "<style scoped>\n",
       "    .dataframe tbody tr th:only-of-type {\n",
       "        vertical-align: middle;\n",
       "    }\n",
       "\n",
       "    .dataframe tbody tr th {\n",
       "        vertical-align: top;\n",
       "    }\n",
       "\n",
       "    .dataframe thead th {\n",
       "        text-align: right;\n",
       "    }\n",
       "</style>\n",
       "<table border=\"1\" class=\"dataframe\">\n",
       "  <thead>\n",
       "    <tr style=\"text-align: right;\">\n",
       "      <th></th>\n",
       "      <th>Survived</th>\n",
       "      <th>Name</th>\n",
       "    </tr>\n",
       "    <tr>\n",
       "      <th>cabin_letter</th>\n",
       "      <th></th>\n",
       "      <th></th>\n",
       "    </tr>\n",
       "  </thead>\n",
       "  <tbody>\n",
       "    <tr>\n",
       "      <th></th>\n",
       "      <td>0.301013</td>\n",
       "      <td>691</td>\n",
       "    </tr>\n",
       "    <tr>\n",
       "      <th>A</th>\n",
       "      <td>0.466667</td>\n",
       "      <td>15</td>\n",
       "    </tr>\n",
       "    <tr>\n",
       "      <th>B</th>\n",
       "      <td>0.744681</td>\n",
       "      <td>47</td>\n",
       "    </tr>\n",
       "    <tr>\n",
       "      <th>C</th>\n",
       "      <td>0.593220</td>\n",
       "      <td>59</td>\n",
       "    </tr>\n",
       "    <tr>\n",
       "      <th>D</th>\n",
       "      <td>0.766667</td>\n",
       "      <td>30</td>\n",
       "    </tr>\n",
       "    <tr>\n",
       "      <th>E</th>\n",
       "      <td>0.757576</td>\n",
       "      <td>33</td>\n",
       "    </tr>\n",
       "    <tr>\n",
       "      <th>F</th>\n",
       "      <td>0.777778</td>\n",
       "      <td>9</td>\n",
       "    </tr>\n",
       "    <tr>\n",
       "      <th>G</th>\n",
       "      <td>0.285714</td>\n",
       "      <td>7</td>\n",
       "    </tr>\n",
       "  </tbody>\n",
       "</table>\n",
       "</div>"
      ],
      "text/plain": [
       "              Survived  Name\n",
       "cabin_letter                \n",
       "              0.301013   691\n",
       "A             0.466667    15\n",
       "B             0.744681    47\n",
       "C             0.593220    59\n",
       "D             0.766667    30\n",
       "E             0.757576    33\n",
       "F             0.777778     9\n",
       "G             0.285714     7"
      ]
     },
     "execution_count": 906,
     "metadata": {},
     "output_type": "execute_result"
    }
   ],
   "source": [
    "# выживаемость в зависимости от палубы\n",
    "# как видно выжываемость на палубе G минимальна, B,D,E,F примерно одинакова\n",
    "df.query(\"testdf == 0\").fillna('')[['cabin_letter', 'Survived', 'Name']]\\\n",
    ".groupby('cabin_letter')\\\n",
    ".agg({'Survived': 'mean', 'Name': 'count'})"
   ]
  },
  {
   "cell_type": "code",
   "execution_count": 907,
   "id": "19b9400d",
   "metadata": {},
   "outputs": [],
   "source": [
    "# Количество человек, путешествующих по билету\n",
    "qty_people_in_ticket = df.groupby('Ticket').Name.count().reset_index().rename(columns={'Name' : 'qty_people_in_ticket'})\n",
    "\n",
    "df = df.merge(qty_people_in_ticket, on='Ticket', how='left')\n",
    "\n",
    "# Тариф на одного человека\n",
    "df['Fare_per_person'] = df[['Fare', 'qty_people_in_ticket']].apply(lambda x: x.Fare/x.qty_people_in_ticket, axis=1)"
   ]
  },
  {
   "cell_type": "code",
   "execution_count": 908,
   "id": "6abaea8e",
   "metadata": {},
   "outputs": [
    {
     "data": {
      "text/plain": [
       "<AxesSubplot: xlabel='Fare_per_person', ylabel='Count'>"
      ]
     },
     "execution_count": 908,
     "metadata": {},
     "output_type": "execute_result"
    },
    {
     "data": {
      "image/png": "[encoded data removed]",
      "text/plain": [
       "<Figure size 640x480 with 1 Axes>"
      ]
     },
     "metadata": {},
     "output_type": "display_data"
    }
   ],
   "source": [
    "# С повышением стоимости билета, увеличивается доля выживших\n",
    "sns.histplot(x='Fare_per_person', data=df.query(\"testdf == 0\").query(\"Fare_per_person >= 0\"), binwidth=10)\n",
    "sns.histplot(x='Fare_per_person', data=df.query(\"testdf == 0\").query(\"Fare_per_person >= 0 and Survived == 1\"), color='red', binwidth=10)"
   ]
  },
  {
   "cell_type": "code",
   "execution_count": 909,
   "id": "ec7924db",
   "metadata": {},
   "outputs": [],
   "source": [
    "df['Fare_group'] = df.Fare_per_person.apply(lambda x: \n",
    "                '[0-10)' if x >= 0 and x < 10 else \n",
    "                '[10-20)' if x >= 10 and x < 20 else\n",
    "                '[20-30)' if x >= 20 and x < 30 else\n",
    "                '[30-40)' if x >= 30 and x < 40 else\n",
    "                '[40-50)' if x >= 40 and x < 50 else\n",
    "                '>=50' if x >= 50 else '')"
   ]
  },
  {
   "cell_type": "code",
   "execution_count": 910,
   "id": "4e59deb3",
   "metadata": {},
   "outputs": [
    {
     "data": {
      "text/html": [
       "<div>\n",
       "<style scoped>\n",
       "    .dataframe tbody tr th:only-of-type {\n",
       "        vertical-align: middle;\n",
       "    }\n",
       "\n",
       "    .dataframe tbody tr th {\n",
       "        vertical-align: top;\n",
       "    }\n",
       "\n",
       "    .dataframe thead th {\n",
       "        text-align: right;\n",
       "    }\n",
       "</style>\n",
       "<table border=\"1\" class=\"dataframe\">\n",
       "  <thead>\n",
       "    <tr style=\"text-align: right;\">\n",
       "      <th></th>\n",
       "      <th>Survived</th>\n",
       "      <th>Name</th>\n",
       "    </tr>\n",
       "    <tr>\n",
       "      <th>Fare_group</th>\n",
       "      <th></th>\n",
       "      <th></th>\n",
       "    </tr>\n",
       "  </thead>\n",
       "  <tbody>\n",
       "    <tr>\n",
       "      <th>[0-10)</th>\n",
       "      <td>0.268797</td>\n",
       "      <td>532</td>\n",
       "    </tr>\n",
       "    <tr>\n",
       "      <th>[10-20)</th>\n",
       "      <td>0.427632</td>\n",
       "      <td>152</td>\n",
       "    </tr>\n",
       "    <tr>\n",
       "      <th>[20-30)</th>\n",
       "      <td>0.653061</td>\n",
       "      <td>98</td>\n",
       "    </tr>\n",
       "    <tr>\n",
       "      <th>[30-40)</th>\n",
       "      <td>0.593750</td>\n",
       "      <td>64</td>\n",
       "    </tr>\n",
       "    <tr>\n",
       "      <th>[40-50)</th>\n",
       "      <td>0.724138</td>\n",
       "      <td>29</td>\n",
       "    </tr>\n",
       "    <tr>\n",
       "      <th>&gt;=50</th>\n",
       "      <td>0.687500</td>\n",
       "      <td>16</td>\n",
       "    </tr>\n",
       "  </tbody>\n",
       "</table>\n",
       "</div>"
      ],
      "text/plain": [
       "            Survived  Name\n",
       "Fare_group                \n",
       "[0-10)      0.268797   532\n",
       "[10-20)     0.427632   152\n",
       "[20-30)     0.653061    98\n",
       "[30-40)     0.593750    64\n",
       "[40-50)     0.724138    29\n",
       ">=50        0.687500    16"
      ]
     },
     "execution_count": 910,
     "metadata": {},
     "output_type": "execute_result"
    }
   ],
   "source": [
    "# С повышением тарифа возрастает выживаемость\n",
    "df.query(\"testdf == 0\")[['Fare_group', 'Survived', 'Name']]\\\n",
    ".groupby('Fare_group')\\\n",
    ".agg({'Survived': 'mean', 'Name': 'count'})\\\n",
    ".sort_values('Name', ascending=0)"
   ]
  },
  {
   "cell_type": "code",
   "execution_count": 911,
   "id": "21702c25",
   "metadata": {},
   "outputs": [],
   "source": [
    "# \"Достаем\" серию билета\n",
    "df['Ticket_type'] = df.Ticket\\\n",
    ".apply(lambda x: re.sub('[^A-Za-z0-9]', '', x.split()[0])\\\n",
    "                           .upper()\\\n",
    "                           .replace('AS', 'A5') \n",
    "       if x.find(' ') != -1 \n",
    "       else '')"
   ]
  },
  {
   "cell_type": "code",
   "execution_count": 912,
   "id": "3309aa9b",
   "metadata": {
    "scrolled": true
   },
   "outputs": [
    {
     "data": {
      "text/html": [
       "<div>\n",
       "<style scoped>\n",
       "    .dataframe tbody tr th:only-of-type {\n",
       "        vertical-align: middle;\n",
       "    }\n",
       "\n",
       "    .dataframe tbody tr th {\n",
       "        vertical-align: top;\n",
       "    }\n",
       "\n",
       "    .dataframe thead th {\n",
       "        text-align: right;\n",
       "    }\n",
       "</style>\n",
       "<table border=\"1\" class=\"dataframe\">\n",
       "  <thead>\n",
       "    <tr style=\"text-align: right;\">\n",
       "      <th></th>\n",
       "      <th>Survived</th>\n",
       "      <th>Name</th>\n",
       "    </tr>\n",
       "    <tr>\n",
       "      <th>Ticket_type</th>\n",
       "      <th></th>\n",
       "      <th></th>\n",
       "    </tr>\n",
       "  </thead>\n",
       "  <tbody>\n",
       "    <tr>\n",
       "      <th></th>\n",
       "      <td>0.383459</td>\n",
       "      <td>665</td>\n",
       "    </tr>\n",
       "    <tr>\n",
       "      <th>PC</th>\n",
       "      <td>0.650000</td>\n",
       "      <td>60</td>\n",
       "    </tr>\n",
       "    <tr>\n",
       "      <th>CA</th>\n",
       "      <td>0.341463</td>\n",
       "      <td>41</td>\n",
       "    </tr>\n",
       "    <tr>\n",
       "      <th>A5</th>\n",
       "      <td>0.090909</td>\n",
       "      <td>22</td>\n",
       "    </tr>\n",
       "    <tr>\n",
       "      <th>SOTONOQ</th>\n",
       "      <td>0.133333</td>\n",
       "      <td>15</td>\n",
       "    </tr>\n",
       "  </tbody>\n",
       "</table>\n",
       "</div>"
      ],
      "text/plain": [
       "             Survived  Name\n",
       "Ticket_type                \n",
       "             0.383459   665\n",
       "PC           0.650000    60\n",
       "CA           0.341463    41\n",
       "A5           0.090909    22\n",
       "SOTONOQ      0.133333    15"
      ]
     },
     "execution_count": 912,
     "metadata": {},
     "output_type": "execute_result"
    }
   ],
   "source": [
    "# Для билетов серий 'PC' и 'CA' выживаемость выше, чем для остальных\n",
    "df.query(\"testdf == 0\")[['Ticket_type', 'Survived', 'Name']]\\\n",
    ".groupby('Ticket_type')\\\n",
    ".agg({'Survived': 'mean', 'Name': 'count'})\\\n",
    ".sort_values(\"Name\", ascending=0).head(5)"
   ]
  },
  {
   "cell_type": "code",
   "execution_count": 913,
   "id": "12f28ce9",
   "metadata": {},
   "outputs": [
    {
     "data": {
      "text/html": [
       "<div>\n",
       "<style scoped>\n",
       "    .dataframe tbody tr th:only-of-type {\n",
       "        vertical-align: middle;\n",
       "    }\n",
       "\n",
       "    .dataframe tbody tr th {\n",
       "        vertical-align: top;\n",
       "    }\n",
       "\n",
       "    .dataframe thead th {\n",
       "        text-align: right;\n",
       "    }\n",
       "</style>\n",
       "<table border=\"1\" class=\"dataframe\">\n",
       "  <thead>\n",
       "    <tr style=\"text-align: right;\">\n",
       "      <th></th>\n",
       "      <th>Survived</th>\n",
       "      <th>Name</th>\n",
       "    </tr>\n",
       "    <tr>\n",
       "      <th>Embarked</th>\n",
       "      <th></th>\n",
       "      <th></th>\n",
       "    </tr>\n",
       "  </thead>\n",
       "  <tbody>\n",
       "    <tr>\n",
       "      <th>C</th>\n",
       "      <td>0.553571</td>\n",
       "      <td>168</td>\n",
       "    </tr>\n",
       "    <tr>\n",
       "      <th>Q</th>\n",
       "      <td>0.389610</td>\n",
       "      <td>77</td>\n",
       "    </tr>\n",
       "    <tr>\n",
       "      <th>S</th>\n",
       "      <td>0.336957</td>\n",
       "      <td>644</td>\n",
       "    </tr>\n",
       "  </tbody>\n",
       "</table>\n",
       "</div>"
      ],
      "text/plain": [
       "          Survived  Name\n",
       "Embarked                \n",
       "C         0.553571   168\n",
       "Q         0.389610    77\n",
       "S         0.336957   644"
      ]
     },
     "execution_count": 913,
     "metadata": {},
     "output_type": "execute_result"
    }
   ],
   "source": [
    "# Видно, что наибольший шанс на выживание имели пассажиры, отправляющиеся из порта \"С\"\n",
    "df.query(\"testdf == 0\")[['Embarked', 'Survived', 'Name']]\\\n",
    ".groupby('Embarked')\\\n",
    ".agg({'Survived': 'mean', 'Name': 'count'})"
   ]
  },
  {
   "cell_type": "code",
   "execution_count": 914,
   "id": "b382f7b5",
   "metadata": {},
   "outputs": [],
   "source": [
    "# Приведем выбранные признаки влияющие на выживаемость к числовому виду\n",
    "# на основании выводов сделанных выше"
   ]
  },
  {
   "cell_type": "code",
   "execution_count": 915,
   "id": "6490f595",
   "metadata": {},
   "outputs": [],
   "source": [
    "df['_Survived'] = df.query(\"testdf == 0\").Survived.astype('Int64')"
   ]
  },
  {
   "cell_type": "code",
   "execution_count": 916,
   "id": "33f90ffd",
   "metadata": {},
   "outputs": [],
   "source": [
    "df['_Pclass'] = df.Pclass.astype(int)"
   ]
  },
  {
   "cell_type": "code",
   "execution_count": 917,
   "id": "7f60043e",
   "metadata": {},
   "outputs": [],
   "source": [
    "df['_Sex'] = df.Sex.map({\"male\": 1, \"female\": 2}).fillna(1)"
   ]
  },
  {
   "cell_type": "code",
   "execution_count": 918,
   "id": "3abe9819",
   "metadata": {},
   "outputs": [],
   "source": [
    "df['_Age'] = df.age_group.map(\n",
    "    {\"[0-10)\": 0, \"[10-20)\": 1, \"[30-40)\": 1, \"[50-60)\": 1, \"[20-30)\": 2, \"[40-50)\": 2,\n",
    "    \"[60-70)\": 3, '>=70': 4}\n",
    "    ).fillna(3).astype(int)"
   ]
  },
  {
   "cell_type": "code",
   "execution_count": 919,
   "id": "305f559c",
   "metadata": {},
   "outputs": [],
   "source": [
    "df['_SibSp'] = df.SibSp.map({1: 0, 2: 0, 0: 1, 3: 2, 4: 3}).fillna(4).astype(int)"
   ]
  },
  {
   "cell_type": "code",
   "execution_count": 920,
   "id": "3526f543",
   "metadata": {},
   "outputs": [],
   "source": [
    "df['_Parch'] = df.Parch.map({1: 0, 2: 0, 0: 1}).fillna(2).astype(int)"
   ]
  },
  {
   "cell_type": "code",
   "execution_count": 921,
   "id": "ee7b04cd",
   "metadata": {},
   "outputs": [],
   "source": [
    "#df['_Cabin'] = df.Cabin.fillna(1).apply(lambda x: 0 if x != 1 else 1)"
   ]
  },
  {
   "cell_type": "code",
   "execution_count": 922,
   "id": "d0abb342",
   "metadata": {},
   "outputs": [],
   "source": [
    "df['_Cabin_num'] = df.cabin_num_group.map(\n",
    "    {\"[0-30)\": 1, \"[30-60)\": 1, \"[90-120)\": 1, \n",
    "     \"[120-150)\": 1, \"[60-90)\": 2}\n",
    "    ).fillna(0).astype(int)"
   ]
  },
  {
   "cell_type": "code",
   "execution_count": 923,
   "id": "fc31a851",
   "metadata": {},
   "outputs": [],
   "source": [
    "df['_cabin_letter'] = df.cabin_letter.map(\n",
    "    {\"B\": 1, \"D\": 1, \"E\": 1, \"F\": 1, \n",
    "     \"C\": 2, \"A\": 3, \"G\": 4}\n",
    "    ).fillna(4).astype(int)"
   ]
  },
  {
   "cell_type": "code",
   "execution_count": 924,
   "id": "b02b2ac3",
   "metadata": {},
   "outputs": [],
   "source": [
    "df['_Ticket'] = df.Ticket_type.map({\"PC\": 1, \"CA\": 2, \"A5\": 3, \"SOTONOQ\": 3}).fillna(4).astype(int)"
   ]
  },
  {
   "cell_type": "code",
   "execution_count": 925,
   "id": "73a9b8cf",
   "metadata": {},
   "outputs": [],
   "source": [
    "df['_Embarked'] = df.Embarked.map({\"C\": 1, \"Q\": 2, \"S\": 3}).fillna(3).astype(int)"
   ]
  },
  {
   "cell_type": "code",
   "execution_count": 926,
   "id": "7ef9c250",
   "metadata": {},
   "outputs": [],
   "source": [
    "df['_Fare'] = df.Fare_group.map(\n",
    "    {\">=50\": 0, \"[40-50)\": 0, \"[20-30)\": 1, \n",
    "     \"[30-40)\": 1, \"[10-20)\":2, \"[0-10)\": 3}\n",
    "    ).fillna(3).astype(int)"
   ]
  },
  {
   "cell_type": "code",
   "execution_count": 927,
   "id": "27939edb",
   "metadata": {},
   "outputs": [],
   "source": [
    "df['_Name'] = df.title.map({\"Mr\": 1, \"Miss\": 2, \"Mrs\": 3, \"Master\": 4}).fillna(5).astype(int)"
   ]
  },
  {
   "cell_type": "code",
   "execution_count": 928,
   "id": "d2cc3dbc",
   "metadata": {
    "scrolled": true
   },
   "outputs": [
    {
     "data": {
      "text/html": [
       "<div>\n",
       "<style scoped>\n",
       "    .dataframe tbody tr th:only-of-type {\n",
       "        vertical-align: middle;\n",
       "    }\n",
       "\n",
       "    .dataframe tbody tr th {\n",
       "        vertical-align: top;\n",
       "    }\n",
       "\n",
       "    .dataframe thead th {\n",
       "        text-align: right;\n",
       "    }\n",
       "</style>\n",
       "<table border=\"1\" class=\"dataframe\">\n",
       "  <thead>\n",
       "    <tr style=\"text-align: right;\">\n",
       "      <th></th>\n",
       "      <th>_Survived</th>\n",
       "      <th>_Pclass</th>\n",
       "      <th>_Sex</th>\n",
       "      <th>_Age</th>\n",
       "      <th>_SibSp</th>\n",
       "      <th>_Parch</th>\n",
       "      <th>_Cabin_num</th>\n",
       "      <th>_cabin_letter</th>\n",
       "      <th>_Ticket</th>\n",
       "      <th>_Embarked</th>\n",
       "      <th>_Fare</th>\n",
       "      <th>_Name</th>\n",
       "    </tr>\n",
       "  </thead>\n",
       "  <tbody>\n",
       "    <tr>\n",
       "      <th>_Survived</th>\n",
       "      <td>1.000000</td>\n",
       "      <td>-0.338481</td>\n",
       "      <td>0.543351</td>\n",
       "      <td>-0.156473</td>\n",
       "      <td>-0.197131</td>\n",
       "      <td>-0.159978</td>\n",
       "      <td>0.275739</td>\n",
       "      <td>-0.337442</td>\n",
       "      <td>-0.093167</td>\n",
       "      <td>-0.167675</td>\n",
       "      <td>-0.320592</td>\n",
       "      <td>0.414088</td>\n",
       "    </tr>\n",
       "    <tr>\n",
       "      <th>_Pclass</th>\n",
       "      <td>-0.338481</td>\n",
       "      <td>1.000000</td>\n",
       "      <td>-0.131900</td>\n",
       "      <td>0.058347</td>\n",
       "      <td>0.208365</td>\n",
       "      <td>0.065027</td>\n",
       "      <td>-0.672541</td>\n",
       "      <td>0.707162</td>\n",
       "      <td>0.302988</td>\n",
       "      <td>0.162098</td>\n",
       "      <td>0.924635</td>\n",
       "      <td>-0.184841</td>\n",
       "    </tr>\n",
       "    <tr>\n",
       "      <th>_Sex</th>\n",
       "      <td>0.543351</td>\n",
       "      <td>-0.131900</td>\n",
       "      <td>1.000000</td>\n",
       "      <td>-0.115812</td>\n",
       "      <td>-0.109318</td>\n",
       "      <td>-0.177422</td>\n",
       "      <td>0.140186</td>\n",
       "      <td>-0.154158</td>\n",
       "      <td>-0.040530</td>\n",
       "      <td>-0.108262</td>\n",
       "      <td>-0.141765</td>\n",
       "      <td>0.508099</td>\n",
       "    </tr>\n",
       "    <tr>\n",
       "      <th>_Age</th>\n",
       "      <td>-0.156473</td>\n",
       "      <td>0.058347</td>\n",
       "      <td>-0.115812</td>\n",
       "      <td>1.000000</td>\n",
       "      <td>-0.017654</td>\n",
       "      <td>0.309137</td>\n",
       "      <td>-0.081270</td>\n",
       "      <td>0.071874</td>\n",
       "      <td>0.010947</td>\n",
       "      <td>-0.108335</td>\n",
       "      <td>0.015313</td>\n",
       "      <td>-0.238217</td>\n",
       "    </tr>\n",
       "    <tr>\n",
       "      <th>_SibSp</th>\n",
       "      <td>-0.197131</td>\n",
       "      <td>0.208365</td>\n",
       "      <td>-0.109318</td>\n",
       "      <td>-0.017654</td>\n",
       "      <td>1.000000</td>\n",
       "      <td>-0.151757</td>\n",
       "      <td>-0.161480</td>\n",
       "      <td>0.152673</td>\n",
       "      <td>-0.076276</td>\n",
       "      <td>0.115167</td>\n",
       "      <td>0.178023</td>\n",
       "      <td>-0.019919</td>\n",
       "    </tr>\n",
       "    <tr>\n",
       "      <th>_Parch</th>\n",
       "      <td>-0.159978</td>\n",
       "      <td>0.065027</td>\n",
       "      <td>-0.177422</td>\n",
       "      <td>0.309137</td>\n",
       "      <td>-0.151757</td>\n",
       "      <td>1.000000</td>\n",
       "      <td>-0.121422</td>\n",
       "      <td>0.126512</td>\n",
       "      <td>0.076333</td>\n",
       "      <td>0.022943</td>\n",
       "      <td>0.022914</td>\n",
       "      <td>-0.292148</td>\n",
       "    </tr>\n",
       "    <tr>\n",
       "      <th>_Cabin_num</th>\n",
       "      <td>0.275739</td>\n",
       "      <td>-0.672541</td>\n",
       "      <td>0.140186</td>\n",
       "      <td>-0.081270</td>\n",
       "      <td>-0.161480</td>\n",
       "      <td>-0.121422</td>\n",
       "      <td>1.000000</td>\n",
       "      <td>-0.876283</td>\n",
       "      <td>-0.226981</td>\n",
       "      <td>-0.177892</td>\n",
       "      <td>-0.664770</td>\n",
       "      <td>0.132416</td>\n",
       "    </tr>\n",
       "    <tr>\n",
       "      <th>_cabin_letter</th>\n",
       "      <td>-0.337442</td>\n",
       "      <td>0.707162</td>\n",
       "      <td>-0.154158</td>\n",
       "      <td>0.071874</td>\n",
       "      <td>0.152673</td>\n",
       "      <td>0.126512</td>\n",
       "      <td>-0.876283</td>\n",
       "      <td>1.000000</td>\n",
       "      <td>0.201624</td>\n",
       "      <td>0.149953</td>\n",
       "      <td>0.678334</td>\n",
       "      <td>-0.143418</td>\n",
       "    </tr>\n",
       "    <tr>\n",
       "      <th>_Ticket</th>\n",
       "      <td>-0.093167</td>\n",
       "      <td>0.302988</td>\n",
       "      <td>-0.040530</td>\n",
       "      <td>0.010947</td>\n",
       "      <td>-0.076276</td>\n",
       "      <td>0.076333</td>\n",
       "      <td>-0.226981</td>\n",
       "      <td>0.201624</td>\n",
       "      <td>1.000000</td>\n",
       "      <td>0.231576</td>\n",
       "      <td>0.335335</td>\n",
       "      <td>-0.077437</td>\n",
       "    </tr>\n",
       "    <tr>\n",
       "      <th>_Embarked</th>\n",
       "      <td>-0.167675</td>\n",
       "      <td>0.162098</td>\n",
       "      <td>-0.108262</td>\n",
       "      <td>-0.108335</td>\n",
       "      <td>0.115167</td>\n",
       "      <td>0.022943</td>\n",
       "      <td>-0.177892</td>\n",
       "      <td>0.149953</td>\n",
       "      <td>0.231576</td>\n",
       "      <td>1.000000</td>\n",
       "      <td>0.211157</td>\n",
       "      <td>-0.074312</td>\n",
       "    </tr>\n",
       "    <tr>\n",
       "      <th>_Fare</th>\n",
       "      <td>-0.320592</td>\n",
       "      <td>0.924635</td>\n",
       "      <td>-0.141765</td>\n",
       "      <td>0.015313</td>\n",
       "      <td>0.178023</td>\n",
       "      <td>0.022914</td>\n",
       "      <td>-0.664770</td>\n",
       "      <td>0.678334</td>\n",
       "      <td>0.335335</td>\n",
       "      <td>0.211157</td>\n",
       "      <td>1.000000</td>\n",
       "      <td>-0.152745</td>\n",
       "    </tr>\n",
       "    <tr>\n",
       "      <th>_Name</th>\n",
       "      <td>0.414088</td>\n",
       "      <td>-0.184841</td>\n",
       "      <td>0.508099</td>\n",
       "      <td>-0.238217</td>\n",
       "      <td>-0.019919</td>\n",
       "      <td>-0.292148</td>\n",
       "      <td>0.132416</td>\n",
       "      <td>-0.143418</td>\n",
       "      <td>-0.077437</td>\n",
       "      <td>-0.074312</td>\n",
       "      <td>-0.152745</td>\n",
       "      <td>1.000000</td>\n",
       "    </tr>\n",
       "  </tbody>\n",
       "</table>\n",
       "</div>"
      ],
      "text/plain": [
       "               _Survived   _Pclass      _Sex      _Age    _SibSp    _Parch  \\\n",
       "_Survived       1.000000 -0.338481  0.543351 -0.156473 -0.197131 -0.159978   \n",
       "_Pclass        -0.338481  1.000000 -0.131900  0.058347  0.208365  0.065027   \n",
       "_Sex            0.543351 -0.131900  1.000000 -0.115812 -0.109318 -0.177422   \n",
       "_Age           -0.156473  0.058347 -0.115812  1.000000 -0.017654  0.309137   \n",
       "_SibSp         -0.197131  0.208365 -0.109318 -0.017654  1.000000 -0.151757   \n",
       "_Parch         -0.159978  0.065027 -0.177422  0.309137 -0.151757  1.000000   \n",
       "_Cabin_num      0.275739 -0.672541  0.140186 -0.081270 -0.161480 -0.121422   \n",
       "_cabin_letter  -0.337442  0.707162 -0.154158  0.071874  0.152673  0.126512   \n",
       "_Ticket        -0.093167  0.302988 -0.040530  0.010947 -0.076276  0.076333   \n",
       "_Embarked      -0.167675  0.162098 -0.108262 -0.108335  0.115167  0.022943   \n",
       "_Fare          -0.320592  0.924635 -0.141765  0.015313  0.178023  0.022914   \n",
       "_Name           0.414088 -0.184841  0.508099 -0.238217 -0.019919 -0.292148   \n",
       "\n",
       "               _Cabin_num  _cabin_letter   _Ticket  _Embarked     _Fare  \\\n",
       "_Survived        0.275739      -0.337442 -0.093167  -0.167675 -0.320592   \n",
       "_Pclass         -0.672541       0.707162  0.302988   0.162098  0.924635   \n",
       "_Sex             0.140186      -0.154158 -0.040530  -0.108262 -0.141765   \n",
       "_Age            -0.081270       0.071874  0.010947  -0.108335  0.015313   \n",
       "_SibSp          -0.161480       0.152673 -0.076276   0.115167  0.178023   \n",
       "_Parch          -0.121422       0.126512  0.076333   0.022943  0.022914   \n",
       "_Cabin_num       1.000000      -0.876283 -0.226981  -0.177892 -0.664770   \n",
       "_cabin_letter   -0.876283       1.000000  0.201624   0.149953  0.678334   \n",
       "_Ticket         -0.226981       0.201624  1.000000   0.231576  0.335335   \n",
       "_Embarked       -0.177892       0.149953  0.231576   1.000000  0.211157   \n",
       "_Fare           -0.664770       0.678334  0.335335   0.211157  1.000000   \n",
       "_Name            0.132416      -0.143418 -0.077437  -0.074312 -0.152745   \n",
       "\n",
       "                  _Name  \n",
       "_Survived      0.414088  \n",
       "_Pclass       -0.184841  \n",
       "_Sex           0.508099  \n",
       "_Age          -0.238217  \n",
       "_SibSp        -0.019919  \n",
       "_Parch        -0.292148  \n",
       "_Cabin_num     0.132416  \n",
       "_cabin_letter -0.143418  \n",
       "_Ticket       -0.077437  \n",
       "_Embarked     -0.074312  \n",
       "_Fare         -0.152745  \n",
       "_Name          1.000000  "
      ]
     },
     "execution_count": 928,
     "metadata": {},
     "output_type": "execute_result"
    }
   ],
   "source": [
    "# Проверим, насколько коррелируют между собой выбранные признаки\n",
    "# Это может быть полезно при настройке ML модели \n",
    "df.query(\"testdf == 0\").iloc[:,22:].corr()"
   ]
  },
  {
   "cell_type": "code",
   "execution_count": 929,
   "id": "f907793e",
   "metadata": {},
   "outputs": [
    {
     "data": {
      "text/plain": [
       "<AxesSubplot: >"
      ]
     },
     "execution_count": 929,
     "metadata": {},
     "output_type": "execute_result"
    },
    {
     "data": {
      "image/png": "[encoded data removed]",
      "text/plain": [
       "<Figure size 640x480 with 2 Axes>"
      ]
     },
     "metadata": {},
     "output_type": "display_data"
    }
   ],
   "source": [
    "sns.heatmap(df.query(\"testdf == 0\").iloc[:,22:].corr())"
   ]
  },
  {
   "cell_type": "code",
   "execution_count": 930,
   "id": "a40f708b",
   "metadata": {},
   "outputs": [],
   "source": [
    "# Определим независимые и зависимые данные\n",
    "X=df.query(\"testdf == 0\").iloc[:,23:]\n",
    "y=df.query(\"testdf == 0\")['_Survived'].astype(int)"
   ]
  },
  {
   "cell_type": "code",
   "execution_count": 931,
   "id": "44bb3182",
   "metadata": {},
   "outputs": [],
   "source": [
    "# Выберем параметры для \"перебора\" при выборе лучшей модели\n",
    "model_param = {\n",
    "    'DecisionTreeClassifier':{\n",
    "        'model':DecisionTreeClassifier(),\n",
    "        'param':{'criterion': ['gini','entropy']}\n",
    "    },\n",
    "        'KNeighborsClassifier':{\n",
    "        'model':KNeighborsClassifier(),\n",
    "        'param':{'n_neighbors': [5,10,15,20,25]}\n",
    "    },\n",
    "        'SVC':{\n",
    "        'model':SVC(),\n",
    "        'param':{'kernel':['rbf','linear','sigmoid'],\n",
    "            'C': [0.1, 1, 10, 100]}\n",
    "    },\n",
    "        'RandomForestClassifier':{\n",
    "        'model':RandomForestClassifier(),\n",
    "        'param':{'n_estimators': [100, 200, 300, 400],\n",
    "                 'criterion': ['gini','entropy'],\n",
    "                 'max_features': [4, 5, 6, 7],\n",
    "                 'max_depth': [5, 6, 7, 8]}\n",
    "    },\n",
    "        'GradientBoostingClassifier':{\n",
    "        'model':GradientBoostingClassifier(),\n",
    "        'param':{'learning_rate':[0.1, 1, 10, 100],\n",
    "            'n_estimators': [700, 300, 100]}\n",
    "    \n",
    "    }\n",
    "}"
   ]
  },
  {
   "cell_type": "code",
   "execution_count": 932,
   "id": "279b209c",
   "metadata": {},
   "outputs": [],
   "source": [
    "scores =[]\n",
    "for model_name, mp in model_param.items():\n",
    "    model_selection = GridSearchCV(estimator=mp['model'],param_grid=mp['param'],cv=5,return_train_score=False)\n",
    "    model_selection.fit(X,y)\n",
    "    scores.append({\n",
    "        'model': model_name,\n",
    "        'best_score': model_selection.best_score_,\n",
    "        'best_params': model_selection.best_params_\n",
    "    })"
   ]
  },
  {
   "cell_type": "code",
   "execution_count": 933,
   "id": "23e25eba",
   "metadata": {},
   "outputs": [
    {
     "data": {
      "text/html": [
       "<div>\n",
       "<style scoped>\n",
       "    .dataframe tbody tr th:only-of-type {\n",
       "        vertical-align: middle;\n",
       "    }\n",
       "\n",
       "    .dataframe tbody tr th {\n",
       "        vertical-align: top;\n",
       "    }\n",
       "\n",
       "    .dataframe thead th {\n",
       "        text-align: right;\n",
       "    }\n",
       "</style>\n",
       "<table border=\"1\" class=\"dataframe\">\n",
       "  <thead>\n",
       "    <tr style=\"text-align: right;\">\n",
       "      <th></th>\n",
       "      <th>model</th>\n",
       "      <th>best_score</th>\n",
       "      <th>best_params</th>\n",
       "    </tr>\n",
       "  </thead>\n",
       "  <tbody>\n",
       "    <tr>\n",
       "      <th>0</th>\n",
       "      <td>DecisionTreeClassifier</td>\n",
       "      <td>0.799102</td>\n",
       "      <td>{'criterion': 'entropy'}</td>\n",
       "    </tr>\n",
       "    <tr>\n",
       "      <th>1</th>\n",
       "      <td>KNeighborsClassifier</td>\n",
       "      <td>0.811474</td>\n",
       "      <td>{'n_neighbors': 10}</td>\n",
       "    </tr>\n",
       "    <tr>\n",
       "      <th>2</th>\n",
       "      <td>SVC</td>\n",
       "      <td>0.829452</td>\n",
       "      <td>{'C': 100, 'kernel': 'rbf'}</td>\n",
       "    </tr>\n",
       "    <tr>\n",
       "      <th>3</th>\n",
       "      <td>RandomForestClassifier</td>\n",
       "      <td>0.845120</td>\n",
       "      <td>{'criterion': 'gini', 'max_depth': 6, 'max_fea...</td>\n",
       "    </tr>\n",
       "    <tr>\n",
       "      <th>4</th>\n",
       "      <td>GradientBoostingClassifier</td>\n",
       "      <td>0.832810</td>\n",
       "      <td>{'learning_rate': 0.1, 'n_estimators': 100}</td>\n",
       "    </tr>\n",
       "  </tbody>\n",
       "</table>\n",
       "</div>"
      ],
      "text/plain": [
       "                        model  best_score  \\\n",
       "0      DecisionTreeClassifier    0.799102   \n",
       "1        KNeighborsClassifier    0.811474   \n",
       "2                         SVC    0.829452   \n",
       "3      RandomForestClassifier    0.845120   \n",
       "4  GradientBoostingClassifier    0.832810   \n",
       "\n",
       "                                         best_params  \n",
       "0                           {'criterion': 'entropy'}  \n",
       "1                                {'n_neighbors': 10}  \n",
       "2                        {'C': 100, 'kernel': 'rbf'}  \n",
       "3  {'criterion': 'gini', 'max_depth': 6, 'max_fea...  \n",
       "4        {'learning_rate': 0.1, 'n_estimators': 100}  "
      ]
     },
     "execution_count": 933,
     "metadata": {},
     "output_type": "execute_result"
    }
   ],
   "source": [
    "# Наилучший результат показал метод случайного леса\n",
    "df_model_score = pd.DataFrame(scores,columns=['model','best_score','best_params'])\n",
    "df_model_score"
   ]
  },
  {
   "cell_type": "code",
   "execution_count": 948,
   "id": "7440a06c",
   "metadata": {},
   "outputs": [
    {
     "data": {
      "text/plain": [
       "{'criterion': 'gini', 'max_depth': 6, 'max_features': 4, 'n_estimators': 100}"
      ]
     },
     "execution_count": 948,
     "metadata": {},
     "output_type": "execute_result"
    }
   ],
   "source": [
    "df_model_score.best_params[3]"
   ]
  },
  {
   "cell_type": "code",
   "execution_count": 949,
   "id": "9663c565",
   "metadata": {},
   "outputs": [],
   "source": [
    "# Обучим модель\n",
    "model = RandomForestClassifier(criterion='gini',max_depth=6, max_features=4, n_estimators=100).fit(X, y)"
   ]
  },
  {
   "cell_type": "code",
   "execution_count": 950,
   "id": "ee0eed74",
   "metadata": {},
   "outputs": [],
   "source": [
    "# Используем модель на тестовой выборке\n",
    "y_predicted = model.predict(df.query(\"testdf == 1\").iloc[: , 23:])"
   ]
  },
  {
   "cell_type": "code",
   "execution_count": 951,
   "id": "124bde40",
   "metadata": {},
   "outputs": [],
   "source": [
    "sub = pd.DataFrame({'Survived': y_predicted}, index=df.query(\"testdf == 1\")['PassengerId'])"
   ]
  },
  {
   "cell_type": "code",
   "execution_count": 952,
   "id": "ddac656c",
   "metadata": {},
   "outputs": [],
   "source": [
    "sub.to_csv('RFCtitanic_sub_v6.csv')"
   ]
  },
  {
   "cell_type": "code",
   "execution_count": 938,
   "id": "4fbd9172",
   "metadata": {},
   "outputs": [],
   "source": [
    "# Загружаем RFCtitanic_sub_v6.csv на www.kaggle.com\n",
    "# Результат - модель верно определяет выживаемость в 78% случаев."
   ]
  }
 ],
 "metadata": {
  "kernelspec": {
   "display_name": "Python 3 (ipykernel)",
   "language": "python",
   "name": "python3"
  },
  "language_info": {
   "codemirror_mode": {
    "name": "ipython",
    "version": 3
   },
   "file_extension": ".py",
   "mimetype": "text/x-python",
   "name": "python",
   "nbconvert_exporter": "python",
   "pygments_lexer": "ipython3",
   "version": "3.10.5"
  }
 },
 "nbformat": 4,
 "nbformat_minor": 5
}
